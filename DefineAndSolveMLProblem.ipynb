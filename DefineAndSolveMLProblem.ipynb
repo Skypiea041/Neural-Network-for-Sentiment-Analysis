{
 "cells": [
  {
   "cell_type": "markdown",
   "metadata": {},
   "source": [
    "# Lab 8: Define and Solve an ML Problem of Your Choosing"
   ]
  },
  {
   "cell_type": "code",
   "execution_count": 1,
   "metadata": {},
   "outputs": [],
   "source": [
    "import pandas as pd\n",
    "import numpy as np\n",
    "import os \n",
    "import matplotlib.pyplot as plt\n",
    "import seaborn as sns"
   ]
  },
  {
   "cell_type": "markdown",
   "metadata": {},
   "source": [
    "In this lab assignment, you will follow the machine learning life cycle and implement a model to solve a machine learning problem of your choosing. You will select a data set and choose a predictive problem that the data set supports.  You will then inspect the data with your problem in mind and begin to formulate a  project plan. You will then implement the machine learning project plan. \n",
    "\n",
    "You will complete the following tasks:\n",
    "\n",
    "1. Build Your DataFrame\n",
    "2. Define Your ML Problem\n",
    "3. Perform exploratory data analysis to understand your data.\n",
    "4. Define Your Project Plan\n",
    "5. Implement Your Project Plan:\n",
    "    * Prepare your data for your model.\n",
    "    * Fit your model to the training data and evaluate your model.\n",
    "    * Improve your model's performance."
   ]
  },
  {
   "cell_type": "markdown",
   "metadata": {},
   "source": [
    "## Part 1: Build Your DataFrame\n",
    "\n",
    "You will have the option to choose one of four data sets that you have worked with in this program:\n",
    "\n",
    "* The \"census\" data set that contains Census information from 1994: `censusData.csv`\n",
    "* Airbnb NYC \"listings\" data set: `airbnbListingsData.csv`\n",
    "* World Happiness Report (WHR) data set: `WHR2018Chapter2OnlineData.csv`\n",
    "* Book Review data set: `bookReviewsData.csv`\n",
    "\n",
    "Note that these are variations of the data sets that you have worked with in this program. For example, some do not include some of the preprocessing necessary for specific models. \n",
    "\n",
    "#### Load a Data Set and Save it as a Pandas DataFrame\n",
    "\n",
    "The code cell below contains filenames (path + filename) for each of the four data sets available to you.\n",
    "\n",
    "<b>Task:</b> In the code cell below, use the same method you have been using to load the data using `pd.read_csv()` and save it to DataFrame `df`. \n",
    "\n",
    "You can load each file as a new DataFrame to inspect the data before choosing your data set."
   ]
  },
  {
   "cell_type": "code",
   "execution_count": 2,
   "metadata": {},
   "outputs": [],
   "source": [
    "# File names of the four data sets\n",
    "adultDataSet_filename = os.path.join(os.getcwd(), \"data\", \"censusData.csv\")\n",
    "airbnbDataSet_filename = os.path.join(os.getcwd(), \"data\", \"airbnbListingsData.csv\")\n",
    "WHRDataSet_filename = os.path.join(os.getcwd(), \"data\", \"WHR2018Chapter2OnlineData.csv\")\n",
    "bookReviewDataSet_filename = os.path.join(os.getcwd(), \"data\", \"bookReviewsData.csv\")\n",
    "\n",
    "\n",
    "df = pd.read_csv(bookReviewDataSet_filename,header=0)# YOUR CODE HERE"
   ]
  },
  {
   "cell_type": "markdown",
   "metadata": {},
   "source": [
    "## Part 2: Define Your ML Problem\n",
    "\n",
    "Next you will formulate your ML Problem. In the markdown cell below, answer the following questions:\n",
    "\n",
    "1. List the data set you have chosen.\n",
    "2. What will you be predicting? What is the label?\n",
    "3. Is this a supervised or unsupervised learning problem? Is this a clustering, classification or regression problem? Is it a binary classificaiton or multi-class classifiction problem?\n",
    "4. What are your features? (note: this list may change after your explore your data)\n",
    "5. Explain why this is an important problem. In other words, how would a company create value with a model that predicts this label?"
   ]
  },
  {
   "cell_type": "markdown",
   "metadata": {},
   "source": [
    "1. The data set I chose is Book Review data set.\n",
    "2. I will be predicting whether the review is positive or not. The label would be just the 'positive'.\n",
    "3. It's a supervised learning problem, to be specific, it is a binary classification problem.\n",
    "4. My only feature would be 'Review'.\n",
    "5. This is an important problem because companies can process thousands or millions of reviews instantly, far faster than human reviewers could manage. This allows businesses to analyze their entire review corpus in real-time. Once developed, this models can analyze reviews at minimal ongoing cost compared to hiring human annotators to read and classify each review manually."
   ]
  },
  {
   "cell_type": "markdown",
   "metadata": {},
   "source": [
    "## Part 3: Understand Your Data\n",
    "\n",
    "The next step is to perform exploratory data analysis. Inspect and analyze your data set with your machine learning problem in mind. Consider the following as you inspect your data:\n",
    "\n",
    "1. What data preparation techniques would you like to use? These data preparation techniques may include:\n",
    "\n",
    "    * addressing missingness, such as replacing missing values with means\n",
    "    * finding and replacing outliers\n",
    "    * renaming features and labels\n",
    "    * finding and replacing outliers\n",
    "    * performing feature engineering techniques such as one-hot encoding on categorical features\n",
    "    * selecting appropriate features and removing irrelevant features\n",
    "    * performing specific data cleaning and preprocessing techniques for an NLP problem\n",
    "    * addressing class imbalance in your data sample to promote fair AI\n",
    "    \n",
    "\n",
    "2. What machine learning model (or models) you would like to use that is suitable for your predictive problem and data?\n",
    "    * Are there other data preparation techniques that you will need to apply to build a balanced modeling data set for your problem and model? For example, will you need to scale your data?\n",
    " \n",
    " \n",
    "3. How will you evaluate and improve the model's performance?\n",
    "    * Are there specific evaluation metrics and methods that are appropriate for your model?\n",
    "    \n",
    "\n",
    "Think of the different techniques you have used to inspect and analyze your data in this course. These include using Pandas to apply data filters, using the Pandas `describe()` method to get insight into key statistics for each column, using the Pandas `dtypes` property to inspect the data type of each column, and using Matplotlib and Seaborn to detect outliers and visualize relationships between features and labels. If you are working on a classification problem, use techniques you have learned to determine if there is class imbalance.\n",
    "\n",
    "<b>Task</b>: Use the techniques you have learned in this course to inspect and analyze your data. You can import additional packages that you have used in this course that you will need to perform this task.\n",
    "\n",
    "<b>Note</b>: You can add code cells if needed by going to the <b>Insert</b> menu and clicking on <b>Insert Cell Below</b> in the drop-drown menu."
   ]
  },
  {
   "cell_type": "code",
   "execution_count": 3,
   "metadata": {},
   "outputs": [
    {
     "name": "stdout",
     "output_type": "stream",
     "text": [
      "Dataset Shape: (1973, 2)\n",
      "\n",
      "Column Names: ['Review', 'Positive Review']\n",
      "\n",
      "Data Types:\n",
      "Review             object\n",
      "Positive Review      bool\n",
      "dtype: object\n",
      "\n",
      "Missing Values:\n",
      "Review             0\n",
      "Positive Review    0\n",
      "dtype: int64\n",
      "\n",
      "First 10 rows:\n",
      "                                              Review  Positive Review\n",
      "0  This was perhaps the best of Johannes Steinhof...             True\n",
      "1  This very fascinating book is a story written ...             True\n",
      "2  The four tales in this collection are beautifu...             True\n",
      "3  The book contained more profanity than I expec...            False\n",
      "4  We have now entered a second time of deep conc...             True\n",
      "5  I don't know why it won the National Book Awar...            False\n",
      "6  The daughter of a prominent Boston doctor is d...            False\n",
      "7  I was very disapointed in the book.Basicly the...            False\n",
      "8  I think in retrospect I wasted my time on this...            False\n",
      "9  I have a hard time understanding what it is th...            False\n"
     ]
    }
   ],
   "source": [
    "# Check the shape, columns of the data\n",
    "# Basic data exploration\n",
    "print(\"Dataset Shape:\", df.shape)\n",
    "print(\"\\nColumn Names:\", df.columns.tolist())\n",
    "print(\"\\nData Types:\")\n",
    "print(df.dtypes)\n",
    "\n",
    "# Exam if the data contains null value\n",
    "print(\"\\nMissing Values:\")\n",
    "print(df.isnull().sum())\n",
    "\n",
    "# inspect first 10 rows of dataframes\n",
    "print(\"\\nFirst 10 rows:\")\n",
    "print(df.head(10))"
   ]
  },
  {
   "cell_type": "code",
   "execution_count": 4,
   "metadata": {},
   "outputs": [
    {
     "name": "stdout",
     "output_type": "stream",
     "text": [
      "\n",
      "Class Distribution:\n",
      "False    993\n",
      "True     980\n",
      "Name: Positive Review, dtype: int64\n",
      "\n",
      "Class Proportions:\n",
      "False    0.503294\n",
      "True     0.496706\n",
      "Name: Positive Review, dtype: float64\n"
     ]
    }
   ],
   "source": [
    "# Check the distribution of positive vs negative reviews (Check class balance)\n",
    "print(\"\\nClass Distribution:\")\n",
    "class_distribution = df['Positive Review'].value_counts()\n",
    "print(class_distribution)\n",
    "print(f\"\\nClass Proportions:\")\n",
    "print(df['Positive Review'].value_counts(normalize=True))"
   ]
  },
  {
   "cell_type": "code",
   "execution_count": 5,
   "metadata": {},
   "outputs": [
    {
     "data": {
      "image/png": "[encoded data removed]",
      "text/plain": [
       "<Figure size 800x600 with 1 Axes>"
      ]
     },
     "metadata": {},
     "output_type": "display_data"
    }
   ],
   "source": [
    "# Visualize class distribution\n",
    "plt.figure(figsize=(8, 6))\n",
    "df['Positive Review'].value_counts().plot(kind='bar')\n",
    "plt.title('Distribution of Review Sentiment')\n",
    "plt.xlabel('Review Type (0=Negative, 1=Positive)')\n",
    "plt.ylabel('Count')\n",
    "plt.xticks(rotation=0)\n",
    "plt.show()"
   ]
  },
  {
   "cell_type": "code",
   "execution_count": 6,
   "metadata": {},
   "outputs": [
    {
     "name": "stdout",
     "output_type": "stream",
     "text": [
      "Features shape: (1973, 1)\n",
      "Labels shape: (1973,)\n"
     ]
    }
   ],
   "source": [
    "# Set the targeted label and features\n",
    "y = df['Positive Review']\n",
    "X = df.drop(columns = 'Positive Review')\n",
    "\n",
    "print(f\"Features shape: {X.shape}\")\n",
    "print(f\"Labels shape: {y.shape}\")"
   ]
  },
  {
   "cell_type": "markdown",
   "metadata": {},
   "source": [
    "## Part 4: Define Your Project Plan\n",
    "\n",
    "Now that you understand your data, in the markdown cell below, define your plan to implement the remaining phases of the machine learning life cycle (data preparation, modeling, evaluation) to solve your ML problem. Answer the following questions:\n",
    "\n",
    "* Do you have a new feature list? If so, what are the features that you chose to keep and remove after inspecting the data? \n",
    "* Explain different data preparation techniques that you will use to prepare your data for modeling.\n",
    "* What is your model (or models)?\n",
    "* Describe your plan to train your model, analyze its performance and then improve the model. That is, describe your model building, validation and selection plan to produce a model that generalizes well to new data. "
   ]
  },
  {
   "cell_type": "markdown",
   "metadata": {},
   "source": [
    "1. No, I don't have a new feature list.\n",
    "2. I will use TfidfVectorizer to prepare my data. TfidfVectorizer is a class in scikit-learn that converts a collection of text documents into a matrix of TF-IDF features. It's a crucial tool for natural language processing tasks as it transforms text data into a numerical format that machine learning models can understand.\n",
    "3. The model that I plan to use is neural network model.\n",
    "4. I will train multiple neural network architectures using different optimizers with stratified train-validation splits. Training will include early stopping and dropout regularization to prevent overfitting. Model improvement will involve hyperparameter tuning, architecture optimization, and text preprocessing refinement. I will also analyze feature importance to ensure the model learns meaningful patterns and achieve target performance of >80% test accuracy with good generalization."
   ]
  },
  {
   "cell_type": "markdown",
   "metadata": {},
   "source": [
    "## Part 5: Implement Your Project Plan\n",
    "\n",
    "<b>Task:</b> In the code cell below, import additional packages that you have used in this course that you will need to implement your project plan."
   ]
  },
  {
   "cell_type": "code",
   "execution_count": 7,
   "metadata": {},
   "outputs": [],
   "source": [
    "# Import required library\n",
    "os.environ[\"TF_CPP_MIN_LOG_LEVEL\"] = \"2\" # suppress info and warning messages\n",
    "from sklearn.feature_extraction.text import TfidfVectorizer\n",
    "from sklearn.model_selection import train_test_split\n",
    "import tensorflow.keras as keras\n",
    "import time"
   ]
  },
  {
   "cell_type": "markdown",
   "metadata": {},
   "source": [
    "<b>Task:</b> Use the rest of this notebook to carry out your project plan. \n",
    "\n",
    "You will:\n",
    "\n",
    "1. Prepare your data for your model.\n",
    "2. Fit your model to the training data and evaluate your model.\n",
    "3. Improve your model's performance by performing model selection and/or feature selection techniques to find best model for your problem.\n",
    "\n",
    "Add code cells below and populate the notebook with commentary, code, analyses, results, and figures as you see fit. "
   ]
  },
  {
   "cell_type": "code",
   "execution_count": 8,
   "metadata": {},
   "outputs": [
    {
     "name": "stdout",
     "output_type": "stream",
     "text": [
      "18558\n"
     ]
    }
   ],
   "source": [
    "# Create Training and Test Data Sets\n",
    "X_train, X_test, y_train, y_test = train_test_split(X,y,test_size=0.25, random_state=1234)\n",
    "\n",
    "# Implement TF-IDF Vectorizer to Transform Text\n",
    "# 1. Create a TfidfVectorizer object \n",
    "tfidf_vectorizer = TfidfVectorizer()\n",
    "\n",
    "# 2. Fit the vectorizer to X_train\n",
    "tfidf_vectorizer.fit(X_train['Review'])\n",
    "\n",
    "# 3. Using the fitted vectorizer, transform the training data \n",
    "X_train_tfidf = tfidf_vectorizer.transform(X_train['Review'])\n",
    "\n",
    "# 4. Using the fitted vectorizer, transform the test data \n",
    "X_test_tfidf = tfidf_vectorizer.transform(X_test['Review'])\n",
    "\n",
    "# specify the input_shape, which is the dimensionality of the input layer, in our case is our vocabulary size\n",
    "vocabulary_size = len(tfidf_vectorizer.vocabulary_)\n",
    "print(vocabulary_size)"
   ]
  },
  {
   "cell_type": "code",
   "execution_count": 9,
   "metadata": {},
   "outputs": [
    {
     "name": "stdout",
     "output_type": "stream",
     "text": [
      "Model: \"sequential\"\n",
      "_________________________________________________________________\n",
      "Layer (type)                 Output Shape              Param #   \n",
      "=================================================================\n",
      "hl_1 (Dense)                 (None, 64)                1187776   \n",
      "_________________________________________________________________\n",
      "dropout (Dropout)            (None, 64)                0         \n",
      "_________________________________________________________________\n",
      "hl_2 (Dense)                 (None, 32)                2080      \n",
      "_________________________________________________________________\n",
      "dropout_1 (Dropout)          (None, 32)                0         \n",
      "_________________________________________________________________\n",
      "hl_3 (Dense)                 (None, 16)                528       \n",
      "_________________________________________________________________\n",
      "dropout_2 (Dropout)          (None, 16)                0         \n",
      "_________________________________________________________________\n",
      "output (Dense)               (None, 1)                 17        \n",
      "=================================================================\n",
      "Total params: 1,190,401\n",
      "Trainable params: 1,190,401\n",
      "Non-trainable params: 0\n",
      "_________________________________________________________________\n"
     ]
    }
   ],
   "source": [
    "# Define Model Structure\n",
    "# 1. Create model object\n",
    "nn_model = keras.Sequential()\n",
    "\n",
    "# 2. Create the input layer and add it to the model object: \n",
    "input_layer = keras.layers.InputLayer(input_shape=(vocabulary_size,), name='input')\n",
    "nn_model.add(input_layer)\n",
    "\n",
    "# 3. Create the first hidden layer and add it to the model object:\n",
    "hidden_layer_1 = keras.layers.Dense(units=64, activation='relu', name='hl_1')\n",
    "nn_model.add(hidden_layer_1)\n",
    "nn_model.add(keras.layers.Dropout(0.25))\n",
    "\n",
    "# 4. Create the second layer and add it to the model object:\n",
    "hidden_layer_2 = keras.layers.Dense(units=32, activation='relu', name='hl_2')\n",
    "nn_model.add(hidden_layer_2)\n",
    "nn_model.add(keras.layers.Dropout(0.25))\n",
    "\n",
    "# 5. Create the third layer and add it to the model object:\n",
    "hidden_layer_3 = keras.layers.Dense(units=16, activation='relu', name='hl_3')\n",
    "nn_model.add(hidden_layer_3)\n",
    "nn_model.add(keras.layers.Dropout(0.25))\n",
    "\n",
    "# 6. Create the output layer and add it to the model object:\n",
    "output_layer = keras.layers.Dense(units=1, activation='sigmoid', name='output') \n",
    "nn_model.add(output_layer)\n",
    "\n",
    "# Print summary of neural network model structure\n",
    "nn_model.summary()"
   ]
  },
  {
   "cell_type": "code",
   "execution_count": 10,
   "metadata": {},
   "outputs": [],
   "source": [
    "# Define the Optimization Function\n",
    "sgd_optimizer = keras.optimizers.SGD(learning_rate=0.1)\n",
    "\n",
    "# Define the Loss Function\n",
    "loss_fn = keras.losses.BinaryCrossentropy(from_logits=False)\n",
    "\n",
    "# Compile the Model\n",
    "nn_model.compile(optimizer=sgd_optimizer, loss=loss_fn, metrics=['accuracy'])\n",
    "\n",
    "# Fit the Model on the Training Data\n",
    "class ProgBarLoggerNEpochs(keras.callbacks.Callback):\n",
    "    \n",
    "    def __init__(self, num_epochs: int, every_n: int = 50):\n",
    "        self.num_epochs = num_epochs\n",
    "        self.every_n = every_n\n",
    "    \n",
    "    def on_epoch_end(self, epoch, logs=None):\n",
    "        if (epoch + 1) % self.every_n == 0:\n",
    "            s = 'Epoch [{}/ {}]'.format(epoch + 1, self.num_epochs)\n",
    "            logs_s = ['{}: {:.4f}'.format(k.capitalize(), v)\n",
    "                      for k, v in logs.items()]\n",
    "            s_list = [s] + logs_s\n",
    "            print(', '.join(s_list))"
   ]
  },
  {
   "cell_type": "code",
   "execution_count": 11,
   "metadata": {},
   "outputs": [
    {
     "name": "stdout",
     "output_type": "stream",
     "text": [
      "Epoch [5/ 55], Loss: 0.6917, Accuracy: 0.5342, Val_loss: 0.6907, Val_accuracy: 0.5101\n",
      "Epoch [10/ 55], Loss: 0.6688, Accuracy: 0.6179, Val_loss: 0.6663, Val_accuracy: 0.7770\n",
      "Epoch [15/ 55], Loss: 0.5906, Accuracy: 0.6881, Val_loss: 0.5708, Val_accuracy: 0.7128\n",
      "Epoch [20/ 55], Loss: 0.4936, Accuracy: 0.7642, Val_loss: 0.4808, Val_accuracy: 0.7635\n",
      "Epoch [25/ 55], Loss: 0.3698, Accuracy: 0.8512, Val_loss: 0.4158, Val_accuracy: 0.8345\n",
      "Epoch [30/ 55], Loss: 0.3360, Accuracy: 0.8850, Val_loss: 0.6202, Val_accuracy: 0.6858\n",
      "Epoch [35/ 55], Loss: 0.0744, Accuracy: 0.9882, Val_loss: 0.5472, Val_accuracy: 0.7973\n",
      "Epoch [40/ 55], Loss: 0.1542, Accuracy: 0.9679, Val_loss: 0.5468, Val_accuracy: 0.7466\n",
      "Epoch [45/ 55], Loss: 0.0546, Accuracy: 0.9924, Val_loss: 0.4374, Val_accuracy: 0.8142\n",
      "Epoch [50/ 55], Loss: 0.1379, Accuracy: 0.9670, Val_loss: 0.4232, Val_accuracy: 0.8176\n",
      "Epoch [55/ 55], Loss: 0.0223, Accuracy: 0.9966, Val_loss: 0.6485, Val_accuracy: 0.7770\n",
      "Elapsed time: 5.27s\n"
     ]
    }
   ],
   "source": [
    "t0 = time.time() # start time\n",
    "\n",
    "num_epochs =  55 # epochs\n",
    "\n",
    "history = nn_model.fit(\n",
    "    X_train_tfidf.toarray(), \n",
    "    y_train, \n",
    "    epochs=num_epochs, \n",
    "    verbose=0,\n",
    "    validation_split=0.2,\n",
    "    callbacks=[ProgBarLoggerNEpochs(num_epochs, every_n=5)])# YOUR CODE HERE \n",
    "\n",
    "t1 = time.time() # stop time\n",
    "\n",
    "print('Elapsed time: %.2fs' % (t1-t0))"
   ]
  },
  {
   "cell_type": "code",
   "execution_count": 12,
   "metadata": {},
   "outputs": [
    {
     "data": {
      "text/plain": [
       "dict_keys(['loss', 'accuracy', 'val_loss', 'val_accuracy'])"
      ]
     },
     "execution_count": 12,
     "metadata": {},
     "output_type": "execute_result"
    }
   ],
   "source": [
    "# Save the results to the variable history\n",
    "history.history.keys()"
   ]
  },
  {
   "cell_type": "code",
   "execution_count": null,
   "metadata": {},
   "outputs": [],
   "source": [
    "# Add Keras Dropout layers after one or all hidden layers. (num_epochs = 20 and result was cleared.)**\n",
    "# Before:\n",
    "# Epoch [5/ 20], Loss: 0.6814, Accuracy: 0.6069, Val_loss: 0.6861, Val_accuracy: 0.5101\n",
    "# Epoch [10/ 20], Loss: 0.5933, Accuracy: 0.7718, Val_loss: 0.6061, Val_accuracy: 0.7196\n",
    "# Epoch [15/ 20], Loss: 0.5035, Accuracy: 0.7430, Val_loss: 0.7437, Val_accuracy: 0.5541\n",
    "# Epoch [20/ 20], Loss: 0.2573, Accuracy: 0.9222, Val_loss: 0.5022, Val_accuracy: 0.7568\n",
    "\n",
    "# After:\n",
    "# Epoch [5/ 25], Loss: 0.6918, Accuracy: 0.5182, Val_loss: 0.6914, Val_accuracy: 0.5101\n",
    "# Epoch [10/ 25], Loss: 0.6803, Accuracy: 0.5883, Val_loss: 0.6788, Val_accuracy: 0.7466\n",
    "# Epoch [15/ 25], Loss: 0.5838, Accuracy: 0.7270, Val_loss: 0.5825, Val_accuracy: 0.7905\n",
    "# Epoch [20/ 25], Loss: 0.4457, Accuracy: 0.8123, Val_loss: 0.9599, Val_accuracy: 0.5236\n",
    "# Epoch [25/ 25], Loss: 0.4227, Accuracy: 0.8166, Val_loss: 0.8637, Val_accuracy: 0.5642\n",
    "# Elapsed time: 2.79s\n",
    "\n",
    "# Conclusion:\n",
    "# By applying keras.Dropout, we randomly drop 25% of neurons in each hidden layer during each training batch, \n",
    "# so that it prevents any single neuron from becoming overly specialized, which reduces overfitting. \n",
    "# In terms of accuracy, it did not help with the training accuracy since we randomly dropped 25% of neuron. However, it does help increase the validation accuracy since this approach helps reduce overfitting."
   ]
  },
  {
   "cell_type": "code",
   "execution_count": null,
   "metadata": {},
   "outputs": [],
   "source": [
    "# Evaluate the Model's Performance\n",
    "# 1. num_epochs\n",
    "\n",
    "# *** num_epochs = 20: ***\n",
    "# Epoch [5/ 20], Loss: 0.6932, Accuracy: 0.5106, Val_loss: 0.6924, Val_accuracy: 0.5101\n",
    "# Epoch [10/ 20], Loss: 0.6881, Accuracy: 0.5351, Val_loss: 0.6868, Val_accuracy: 0.5439\n",
    "# Epoch [15/ 20], Loss: 0.6546, Accuracy: 0.6534, Val_loss: 0.6577, Val_accuracy: 0.7027\n",
    "# Epoch [20/ 20], Loss: 0.5779, Accuracy: 0.7151, Val_loss: 0.5408, Val_accuracy: 0.7838\n",
    "# Elapsed time: 2.42s\n",
    "\n",
    "# *** num_epochs = 25: ***\n",
    "# Epoch [5/ 25], Loss: 0.6893, Accuracy: 0.5309, Val_loss: 0.6863, Val_accuracy: 0.5709\n",
    "# Epoch [10/ 25], Loss: 0.6318, Accuracy: 0.6855, Val_loss: 0.6349, Val_accuracy: 0.7669\n",
    "# Epoch [15/ 25], Loss: 0.5467, Accuracy: 0.7287, Val_loss: 0.5168, Val_accuracy: 0.7838\n",
    "# Epoch [20/ 25], Loss: 0.4540, Accuracy: 0.7937, Val_loss: 0.4858, Val_accuracy: 0.8007\n",
    "# Epoch [25/ 25], Loss: 0.3805, Accuracy: 0.8478, Val_loss: 1.1744, Val_accuracy: 0.5507\n",
    "# Elapsed time: 2.80s\n",
    "\n",
    "# *** num_epochs = 30: ***\n",
    "# Epoch [5/ 30], Loss: 0.6896, Accuracy: 0.5596, Val_loss: 0.6899, Val_accuracy: 0.5101\n",
    "# Epoch [10/ 30], Loss: 0.6576, Accuracy: 0.6500, Val_loss: 0.6597, Val_accuracy: 0.7162\n",
    "# Epoch [15/ 30], Loss: 0.5300, Accuracy: 0.7557, Val_loss: 0.5773, Val_accuracy: 0.6486\n",
    "# Epoch [20/ 30], Loss: 0.4662, Accuracy: 0.8005, Val_loss: 0.4975, Val_accuracy: 0.7736\n",
    "# Epoch [25/ 30], Loss: 0.3441, Accuracy: 0.8732, Val_loss: 0.5022, Val_accuracy: 0.7500\n",
    "# Epoch [30/ 30], Loss: 0.2970, Accuracy: 0.8901, Val_loss: 0.8380, Val_accuracy: 0.6588\n",
    "# Elapsed time: 3.20s\n",
    "\n",
    "# *** num_epochs = 35: ***\n",
    "# Epoch [5/ 35], Loss: 0.6907, Accuracy: 0.5266, Val_loss: 0.6894, Val_accuracy: 0.5101\n",
    "# Epoch [10/ 35], Loss: 0.6441, Accuracy: 0.6695, Val_loss: 0.6433, Val_accuracy: 0.7905\n",
    "# Epoch [15/ 35], Loss: 0.5173, Accuracy: 0.7549, Val_loss: 0.6915, Val_accuracy: 0.5608\n",
    "# Epoch [20/ 35], Loss: 0.4744, Accuracy: 0.8005, Val_loss: 0.6004, Val_accuracy: 0.6824\n",
    "# Epoch [25/ 35], Loss: 0.2977, Accuracy: 0.8943, Val_loss: 0.5524, Val_accuracy: 0.7162\n",
    "# Epoch [30/ 35], Loss: 0.2618, Accuracy: 0.9197, Val_loss: 0.4178, Val_accuracy: 0.8209\n",
    "# Epoch [35/ 35], Loss: 0.2069, Accuracy: 0.9527, Val_loss: 0.4831, Val_accuracy: 0.8007\n",
    "# Elapsed time: 3.62s\n",
    "\n",
    "# *** num_epochs = 40: ***\n",
    "# Epoch [5/ 40], Loss: 0.6926, Accuracy: 0.5089, Val_loss: 0.6925, Val_accuracy: 0.5101\n",
    "# Epoch [10/ 40], Loss: 0.6764, Accuracy: 0.6061, Val_loss: 0.6804, Val_accuracy: 0.5169\n",
    "# Epoch [15/ 40], Loss: 0.5940, Accuracy: 0.6965, Val_loss: 0.5866, Val_accuracy: 0.7872\n",
    "# Epoch [20/ 40], Loss: 0.5091, Accuracy: 0.7642, Val_loss: 0.4854, Val_accuracy: 0.7939\n",
    "# Epoch [25/ 40], Loss: 0.3810, Accuracy: 0.8580, Val_loss: 0.5071, Val_accuracy: 0.7601\n",
    "# Epoch [30/ 40], Loss: 0.2570, Accuracy: 0.9205, Val_loss: 0.5888, Val_accuracy: 0.7534\n",
    "# Epoch [35/ 40], Loss: 0.3223, Accuracy: 0.9011, Val_loss: 0.4126, Val_accuracy: 0.8209\n",
    "# Epoch [40/ 40], Loss: 0.1454, Accuracy: 0.9628, Val_loss: 0.4364, Val_accuracy: 0.8074\n",
    "# Elapsed time: 4.02s\n",
    "\n",
    "# *** num_epochs = 55: ***\n",
    "# Epoch [5/ 55], Loss: 0.6912, Accuracy: 0.5571, Val_loss: 0.6934, Val_accuracy: 0.5101\n",
    "# Epoch [10/ 55], Loss: 0.6862, Accuracy: 0.5604, Val_loss: 0.6870, Val_accuracy: 0.5101\n",
    "# Epoch [15/ 55], Loss: 0.6435, Accuracy: 0.7008, Val_loss: 0.6529, Val_accuracy: 0.7399\n",
    "# Epoch [20/ 55], Loss: 0.5748, Accuracy: 0.6991, Val_loss: 0.5453, Val_accuracy: 0.7838\n",
    "# Epoch [25/ 55], Loss: 0.3759, Accuracy: 0.8512, Val_loss: 0.4284, Val_accuracy: 0.8176\n",
    "# Epoch [30/ 55], Loss: 0.2925, Accuracy: 0.8850, Val_loss: 0.9549, Val_accuracy: 0.6047\n",
    "# Epoch [35/ 55], Loss: 0.3440, Accuracy: 0.8926, Val_loss: 0.3959, Val_accuracy: 0.7973\n",
    "# Epoch [40/ 55], Loss: 0.1378, Accuracy: 0.9713, Val_loss: 0.6445, Val_accuracy: 0.7466\n",
    "# Epoch [45/ 55], Loss: 0.0286, Accuracy: 0.9975, Val_loss: 0.4756, Val_accuracy: 0.8176\n",
    "# Epoch [50/ 55], Loss: 0.0176, Accuracy: 0.9983, Val_loss: 0.5523, Val_accuracy: 0.8243\n",
    "# Epoch [55/ 55], Loss: 0.0390, Accuracy: 0.9983, Val_loss: 0.4823, Val_accuracy: 0.8007\n",
    "# Elapsed time: 5.27s\n",
    "\n",
    "# *** num_epochs = 100: ***\n",
    "# Epoch [5/ 100], Loss: 0.6917, Accuracy: 0.5325, Val_loss: 0.6916, Val_accuracy: 0.6182\n",
    "# Epoch [10/ 100], Loss: 0.6795, Accuracy: 0.6103, Val_loss: 0.6816, Val_accuracy: 0.6419\n",
    "# Epoch [15/ 100], Loss: 0.5949, Accuracy: 0.7625, Val_loss: 0.6783, Val_accuracy: 0.5169\n",
    "# Epoch [20/ 100], Loss: 0.5015, Accuracy: 0.7287, Val_loss: 0.8734, Val_accuracy: 0.5236\n",
    "# Epoch [25/ 100], Loss: 0.4156, Accuracy: 0.8259, Val_loss: 0.4705, Val_accuracy: 0.7736\n",
    "# Epoch [30/ 100], Loss: 0.1801, Accuracy: 0.9425, Val_loss: 0.5839, Val_accuracy: 0.7432\n",
    "# Epoch [35/ 100], Loss: 0.0146, Accuracy: 1.0000, Val_loss: 0.4219, Val_accuracy: 0.8108\n",
    "# Epoch [40/ 100], Loss: 0.0051, Accuracy: 1.0000, Val_loss: 0.4514, Val_accuracy: 0.8142\n",
    "# Epoch [45/ 100], Loss: 0.0028, Accuracy: 1.0000, Val_loss: 0.4723, Val_accuracy: 0.8176\n",
    "# Epoch [50/ 100], Loss: 0.0019, Accuracy: 1.0000, Val_loss: 0.4871, Val_accuracy: 0.8074\n",
    "# Epoch [55/ 100], Loss: 0.0014, Accuracy: 1.0000, Val_loss: 0.4998, Val_accuracy: 0.8074\n",
    "# Epoch [60/ 100], Loss: 0.0011, Accuracy: 1.0000, Val_loss: 0.5104, Val_accuracy: 0.8041\n",
    "# Epoch [65/ 100], Loss: 0.0008, Accuracy: 1.0000, Val_loss: 0.5205, Val_accuracy: 0.8176\n",
    "# Epoch [70/ 100], Loss: 0.0007, Accuracy: 1.0000, Val_loss: 0.5275, Val_accuracy: 0.8074\n",
    "# Epoch [75/ 100], Loss: 0.0006, Accuracy: 1.0000, Val_loss: 0.5350, Val_accuracy: 0.8176\n",
    "# Epoch [80/ 100], Loss: 0.0005, Accuracy: 1.0000, Val_loss: 0.5410, Val_accuracy: 0.8108\n",
    "# Epoch [85/ 100], Loss: 0.0005, Accuracy: 1.0000, Val_loss: 0.5481, Val_accuracy: 0.8176\n",
    "# Epoch [90/ 100], Loss: 0.0004, Accuracy: 1.0000, Val_loss: 0.5521, Val_accuracy: 0.8176\n",
    "# Epoch [95/ 100], Loss: 0.0004, Accuracy: 1.0000, Val_loss: 0.5560, Val_accuracy: 0.8041\n",
    "# Epoch [100/ 100], Loss: 0.0003, Accuracy: 1.0000, Val_loss: 0.5604, Val_accuracy: 0.8074\n",
    "# Elapsed time: 8.62s\n",
    "\n",
    "# *** num_epochs = 200: ***\n",
    "# Epoch [5/ 200], Loss: 0.6911, Accuracy: 0.5368, Val_loss: 0.6909, Val_accuracy: 0.5169\n",
    "# Epoch [10/ 200], Loss: 0.6771, Accuracy: 0.6788, Val_loss: 0.6818, Val_accuracy: 0.5101\n",
    "# Epoch [15/ 200], Loss: 0.5772, Accuracy: 0.7405, Val_loss: 0.5873, Val_accuracy: 0.7905\n",
    "# Epoch [20/ 200], Loss: 0.5252, Accuracy: 0.7422, Val_loss: 0.4819, Val_accuracy: 0.7872\n",
    "# Epoch [25/ 200], Loss: 0.3285, Accuracy: 0.8740, Val_loss: 0.5830, Val_accuracy: 0.6959\n",
    "# Epoch [30/ 200], Loss: 0.0818, Accuracy: 0.9890, Val_loss: 0.5321, Val_accuracy: 0.7770\n",
    "# Epoch [35/ 200], Loss: 0.0122, Accuracy: 1.0000, Val_loss: 0.4574, Val_accuracy: 0.8176\n",
    "# Epoch [40/ 200], Loss: 0.0046, Accuracy: 1.0000, Val_loss: 0.4663, Val_accuracy: 0.8142\n",
    "# Epoch [45/ 200], Loss: 0.0027, Accuracy: 1.0000, Val_loss: 0.4883, Val_accuracy: 0.8209\n",
    "# Epoch [50/ 200], Loss: 0.0018, Accuracy: 1.0000, Val_loss: 0.5058, Val_accuracy: 0.8243\n",
    "# Epoch [55/ 200], Loss: 0.0013, Accuracy: 1.0000, Val_loss: 0.5166, Val_accuracy: 0.8209\n",
    "# Epoch [60/ 200], Loss: 0.0010, Accuracy: 1.0000, Val_loss: 0.5269, Val_accuracy: 0.8176\n",
    "# Epoch [65/ 200], Loss: 0.0008, Accuracy: 1.0000, Val_loss: 0.5366, Val_accuracy: 0.8209\n",
    "# Epoch [70/ 200], Loss: 0.0007, Accuracy: 1.0000, Val_loss: 0.5434, Val_accuracy: 0.8176\n",
    "# Epoch [75/ 200], Loss: 0.0006, Accuracy: 1.0000, Val_loss: 0.5514, Val_accuracy: 0.8209\n",
    "# Epoch [80/ 200], Loss: 0.0005, Accuracy: 1.0000, Val_loss: 0.5570, Val_accuracy: 0.8176\n",
    "# Epoch [85/ 200], Loss: 0.0005, Accuracy: 1.0000, Val_loss: 0.5634, Val_accuracy: 0.8209\n",
    "# Epoch [90/ 200], Loss: 0.0004, Accuracy: 1.0000, Val_loss: 0.5679, Val_accuracy: 0.8209\n",
    "# Epoch [95/ 200], Loss: 0.0004, Accuracy: 1.0000, Val_loss: 0.5727, Val_accuracy: 0.8209\n",
    "# Epoch [100/ 200], Loss: 0.0003, Accuracy: 1.0000, Val_loss: 0.5778, Val_accuracy: 0.8176\n",
    "# Epoch [105/ 200], Loss: 0.0003, Accuracy: 1.0000, Val_loss: 0.5817, Val_accuracy: 0.8176\n",
    "# Epoch [110/ 200], Loss: 0.0003, Accuracy: 1.0000, Val_loss: 0.5853, Val_accuracy: 0.8176\n",
    "# Epoch [115/ 200], Loss: 0.0003, Accuracy: 1.0000, Val_loss: 0.5893, Val_accuracy: 0.8176\n",
    "# Epoch [120/ 200], Loss: 0.0002, Accuracy: 1.0000, Val_loss: 0.5926, Val_accuracy: 0.8176\n",
    "# Epoch [125/ 200], Loss: 0.0002, Accuracy: 1.0000, Val_loss: 0.5961, Val_accuracy: 0.8176\n",
    "# Epoch [130/ 200], Loss: 0.0002, Accuracy: 1.0000, Val_loss: 0.5985, Val_accuracy: 0.8209\n",
    "# Epoch [135/ 200], Loss: 0.0002, Accuracy: 1.0000, Val_loss: 0.6018, Val_accuracy: 0.8176\n",
    "# Epoch [140/ 200], Loss: 0.0002, Accuracy: 1.0000, Val_loss: 0.6046, Val_accuracy: 0.8176\n",
    "# Epoch [145/ 200], Loss: 0.0002, Accuracy: 1.0000, Val_loss: 0.6072, Val_accuracy: 0.8176\n",
    "# Epoch [150/ 200], Loss: 0.0002, Accuracy: 1.0000, Val_loss: 0.6099, Val_accuracy: 0.8176\n",
    "# Epoch [155/ 200], Loss: 0.0002, Accuracy: 1.0000, Val_loss: 0.6120, Val_accuracy: 0.8176\n",
    "# Epoch [160/ 200], Loss: 0.0002, Accuracy: 1.0000, Val_loss: 0.6144, Val_accuracy: 0.8176\n",
    "# Epoch [165/ 200], Loss: 0.0001, Accuracy: 1.0000, Val_loss: 0.6169, Val_accuracy: 0.8176\n",
    "# Epoch [170/ 200], Loss: 0.0001, Accuracy: 1.0000, Val_loss: 0.6189, Val_accuracy: 0.8176\n",
    "# Epoch [175/ 200], Loss: 0.0001, Accuracy: 1.0000, Val_loss: 0.6210, Val_accuracy: 0.8176\n",
    "# Epoch [180/ 200], Loss: 0.0001, Accuracy: 1.0000, Val_loss: 0.6230, Val_accuracy: 0.8176\n",
    "# Epoch [185/ 200], Loss: 0.0001, Accuracy: 1.0000, Val_loss: 0.6248, Val_accuracy: 0.8209\n",
    "# Epoch [190/ 200], Loss: 0.0001, Accuracy: 1.0000, Val_loss: 0.6268, Val_accuracy: 0.8209\n",
    "# Epoch [195/ 200], Loss: 0.0001, Accuracy: 1.0000, Val_loss: 0.6287, Val_accuracy: 0.8209\n",
    "# Epoch [200/ 200], Loss: 0.0001, Accuracy: 1.0000, Val_loss: 0.6306, Val_accuracy: 0.8176\n",
    "# Elapsed time: 16.58s\n",
    "\n",
    "# Conclusion:\n",
    "# When num_epochs = 55, the model shows a consistent good performance"
   ]
  },
  {
   "cell_type": "code",
   "execution_count": 13,
   "metadata": {},
   "outputs": [
    {
     "data": {
      "image/png": "[encoded data removed]",
      "text/plain": [
       "<Figure size 640x480 with 1 Axes>"
      ]
     },
     "metadata": {},
     "output_type": "display_data"
    },
    {
     "data": {
      "image/png": "[encoded data removed]",
      "text/plain": [
       "<Figure size 640x480 with 1 Axes>"
      ]
     },
     "metadata": {},
     "output_type": "display_data"
    }
   ],
   "source": [
    "# Plot training and validation loss\n",
    "plt.plot(range(1, num_epochs + 1), history.history['loss'], label='Training Loss')\n",
    "plt.plot(range(1, num_epochs + 1), history.history['val_loss'], label='Validation Loss')\n",
    "\n",
    "plt.xlabel('Epoch')\n",
    "plt.ylabel('Loss')\n",
    "plt.legend()\n",
    "plt.show()\n",
    "\n",
    "\n",
    "# Plot training and validation accuracy\n",
    "plt.plot(range(1, num_epochs + 1), history.history['accuracy'], label='Training Accuracy')\n",
    "plt.plot(range(1, num_epochs + 1), history.history['val_accuracy'], label='Validation Accuracy')\n",
    "\n",
    "plt.xlabel('Epoch')\n",
    "plt.ylabel('Accuracy')\n",
    "plt.legend()\n",
    "plt.show()"
   ]
  },
  {
   "cell_type": "code",
   "execution_count": 14,
   "metadata": {},
   "outputs": [
    {
     "name": "stdout",
     "output_type": "stream",
     "text": [
      "16/16 [==============================] - 0s 1ms/step - loss: 0.6609 - accuracy: 0.7976\n",
      "Loss:  0.6609449982643127 Accuracy:  0.7975708246231079\n"
     ]
    }
   ],
   "source": [
    "# Evaluate the Performance on the Test Set\n",
    "loss, accuracy = nn_model.evaluate(X_test_tfidf.toarray(),y_test)\n",
    "\n",
    "print('Loss: ', str(loss) , 'Accuracy: ', str(accuracy))"
   ]
  },
  {
   "cell_type": "code",
   "execution_count": 15,
   "metadata": {},
   "outputs": [
    {
     "name": "stdout",
     "output_type": "stream",
     "text": [
      "Predictions for the first 20 examples:\n",
      "Example 1: [0.9870976], False\n",
      "Example 2: [0.860291], True\n",
      "Example 3: [0.02971289], True\n",
      "Example 4: [0.01495162], False\n",
      "Example 5: [0.9355432], True\n",
      "Example 6: [0.6459062], False\n",
      "Example 7: [0.00277886], False\n",
      "Example 8: [0.00025502], True\n",
      "Example 9: [0.9962578], True\n",
      "Example 10: [0.99509156], True\n",
      "Example 11: [0.9343263], True\n",
      "Example 12: [0.13784602], False\n",
      "Example 13: [0.98717326], True\n",
      "Example 14: [0.9953986], True\n",
      "Example 15: [0.8847685], False\n",
      "Example 16: [0.9131421], True\n",
      "Example 17: [0.00027892], False\n",
      "Example 18: [0.6498153], True\n",
      "Example 19: [0.30731636], True\n",
      "Example 20: [0.00389564], False\n"
     ]
    }
   ],
   "source": [
    "# Make predictions on the test set\n",
    "probability_predictions = nn_model.predict(X_test_tfidf.toarray())\n",
    "\n",
    "print(\"Predictions for the first 20 examples:\")\n",
    "for i in range(0,20):\n",
    "    print(\"Example \" + str(i+1) + \": \" + str(probability_predictions[i])  + \", \" + str(y_test.to_numpy()[i]))"
   ]
  },
  {
   "cell_type": "code",
   "execution_count": null,
   "metadata": {},
   "outputs": [],
   "source": []
  }
 ],
 "metadata": {
  "kernelspec": {
   "display_name": "Python 3 (ipykernel)",
   "language": "python",
   "name": "python3"
  },
  "language_info": {
   "codemirror_mode": {
    "name": "ipython",
    "version": 3
   },
   "file_extension": ".py",
   "mimetype": "text/x-python",
   "name": "python",
   "nbconvert_exporter": "python",
   "pygments_lexer": "ipython3",
   "version": "3.9.19"
  },
  "toc": {
   "base_numbering": 1,
   "nav_menu": {},
   "number_sections": false,
   "sideBar": true,
   "skip_h1_title": false,
   "title_cell": "Table of Contents",
   "title_sidebar": "Contents",
   "toc_cell": false,
   "toc_position": {},
   "toc_section_display": true,
   "toc_window_display": false
  },
  "varInspector": {
   "cols": {
    "lenName": 16,
    "lenType": 16,
    "lenVar": 40
   },
   "kernels_config": {
    "python": {
     "delete_cmd_postfix": "",
     "delete_cmd_prefix": "del ",
     "library": "var_list.py",
     "varRefreshCmd": "print(var_dic_list())"
    },
    "r": {
     "delete_cmd_postfix": ") ",
     "delete_cmd_prefix": "rm(",
     "library": "var_list.r",
     "varRefreshCmd": "cat(var_dic_list()) "
    }
   },
   "types_to_exclude": [
    "module",
    "function",
    "builtin_function_or_method",
    "instance",
    "_Feature"
   ],
   "window_display": false
  }
 },
 "nbformat": 4,
 "nbformat_minor": 4
}
